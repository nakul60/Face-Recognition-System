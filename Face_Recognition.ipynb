{
 "cells": [
  {
   "cell_type": "code",
   "execution_count": 2,
   "id": "aaf39a63-2da4-4eb8-ac7c-4a7a61bb707f",
   "metadata": {},
   "outputs": [
    {
     "name": "stdout",
     "output_type": "stream",
     "text": [
      "Defaulting to user installation because normal site-packages is not writeable\n",
      "Collecting dlib\n",
      "  Using cached dlib-19.24.4.tar.gz (3.3 MB)\n",
      "  Installing build dependencies: started\n",
      "  Installing build dependencies: finished with status 'done'\n",
      "  Getting requirements to build wheel: started\n",
      "  Getting requirements to build wheel: finished with status 'done'\n",
      "  Preparing metadata (pyproject.toml): started\n",
      "  Preparing metadata (pyproject.toml): finished with status 'done'\n",
      "Building wheels for collected packages: dlib\n",
      "  Building wheel for dlib (pyproject.toml): started\n",
      "  Building wheel for dlib (pyproject.toml): still running...\n",
      "  Building wheel for dlib (pyproject.toml): still running...\n",
      "  Building wheel for dlib (pyproject.toml): still running...\n",
      "  Building wheel for dlib (pyproject.toml): still running...\n",
      "  Building wheel for dlib (pyproject.toml): finished with status 'done'\n",
      "  Created wheel for dlib: filename=dlib-19.24.4-cp311-cp311-win_amd64.whl size=2832031 sha256=9c08e1ba99d9bab364e400e223a43fbf9ee73eff714fe29bac1347a0f6729828\n",
      "  Stored in directory: c:\\users\\arora\\appdata\\local\\pip\\cache\\wheels\\0d\\98\\d7\\6152ef60cc9ecd8e1cbf5aa31c55cb5ecd1a737f1a1cf451bf\n",
      "Successfully built dlib\n",
      "Installing collected packages: dlib\n",
      "Successfully installed dlib-19.24.4\n"
     ]
    }
   ],
   "source": [
    "!pip install dlib"
   ]
  },
  {
   "cell_type": "code",
   "execution_count": 4,
   "id": "9d0fa13a-e22a-45b6-bcba-b595fcce843b",
   "metadata": {},
   "outputs": [
    {
     "name": "stdout",
     "output_type": "stream",
     "text": [
      "Defaulting to user installation because normal site-packages is not writeable\n",
      "Collecting face_recognition\n",
      "  Using cached face_recognition-1.3.0-py2.py3-none-any.whl.metadata (21 kB)\n",
      "Collecting face-recognition-models>=0.3.0 (from face_recognition)\n",
      "  Using cached face_recognition_models-0.3.0-py2.py3-none-any.whl\n",
      "Requirement already satisfied: Click>=6.0 in c:\\programdata\\anaconda3\\lib\\site-packages (from face_recognition) (8.1.7)\n",
      "Requirement already satisfied: dlib>=19.7 in c:\\users\\arora\\appdata\\roaming\\python\\python311\\site-packages (from face_recognition) (19.24.4)\n",
      "Requirement already satisfied: numpy in c:\\programdata\\anaconda3\\lib\\site-packages (from face_recognition) (1.26.4)\n",
      "Requirement already satisfied: Pillow in c:\\programdata\\anaconda3\\lib\\site-packages (from face_recognition) (10.2.0)\n",
      "Requirement already satisfied: colorama in c:\\programdata\\anaconda3\\lib\\site-packages (from Click>=6.0->face_recognition) (0.4.6)\n",
      "Using cached face_recognition-1.3.0-py2.py3-none-any.whl (15 kB)\n",
      "Installing collected packages: face-recognition-models, face_recognition\n",
      "Successfully installed face-recognition-models-0.3.0 face_recognition-1.3.0\n"
     ]
    },
    {
     "name": "stderr",
     "output_type": "stream",
     "text": [
      "  WARNING: The scripts face_detection.exe and face_recognition.exe are installed in 'C:\\Users\\ARORA\\AppData\\Roaming\\Python\\Python311\\Scripts' which is not on PATH.\n",
      "  Consider adding this directory to PATH or, if you prefer to suppress this warning, use --no-warn-script-location.\n"
     ]
    }
   ],
   "source": [
    "!pip install face_recognition"
   ]
  },
  {
   "cell_type": "code",
   "execution_count": 1,
   "id": "313acbad-3c82-498c-bcfb-6bbb4b5b779a",
   "metadata": {},
   "outputs": [],
   "source": [
    "# -*- coding: utf-8 -*-\n",
    "\"\"\"\n",
    "Created on Sun Jun  2 12:00:01 2024\n",
    "\n",
    "@author: ARORA\n",
    "\"\"\"\n",
    "\n",
    "import cv2\n",
    "import face_recognition\n",
    "\n",
    "# Load known face encodings and names\n",
    "known_face_encodings = []\n",
    "known_face_names = []\n",
    "\n",
    "# Load known faces and their names here\n",
    "known_person1_image = face_recognition.load_image_file(r\"C:\\Users\\ARORA\\Nakul.jpg\")\n",
    "known_person2_image = face_recognition.load_image_file(r\"C:\\Users\\ARORA\\Namish.jpg\")\n",
    "known_person3_image = face_recognition.load_image_file(r\"C:\\Users\\ARORA\\Monika.jpg\")\n",
    "known_person4_image = face_recognition.load_image_file(r\"C:\\Users\\ARORA\\Sanjeev.jpg\")\n",
    "\n",
    "known_person1_encoding = face_recognition.face_encodings(known_person1_image)[0]\n",
    "known_person2_encoding = face_recognition.face_encodings(known_person2_image)[0]\n",
    "known_person3_encoding = face_recognition.face_encodings(known_person3_image)[0]\n",
    "known_person4_encoding = face_recognition.face_encodings(known_person4_image)[0]\n",
    "\n",
    "known_face_encodings.append(known_person1_encoding)\n",
    "known_face_encodings.append(known_person2_encoding)\n",
    "known_face_encodings.append(known_person3_encoding)\n",
    "known_face_encodings.append(known_person4_encoding)\n",
    "\n",
    "known_face_names.append(\"Nakul\")\n",
    "known_face_names.append(\"Namish\")\n",
    "known_face_names.append(\"Monika\")\n",
    "known_face_names.append(\"Sanjeev\")\n",
    "\n",
    "# Initializing Webcam\n",
    "video_capture = cv2.VideoCapture(0)\n",
    "\n",
    "while True:\n",
    "    # Capture frame-by-frame\n",
    "    ret, frame = video_capture.read()\n",
    "    \n",
    "    # Find all face locations in the current frame\n",
    "    face_locations = face_recognition.face_locations(frame)\n",
    "    face_encodings = face_recognition.face_encodings(frame, face_locations)\n",
    "    \n",
    "    # Loop through each face found in the frame\n",
    "    for (top, right, bottom, left), face_encoding in zip(face_locations, face_encodings):\n",
    "        # Check if the face matches any known faces\n",
    "        matches = face_recognition.compare_faces(known_face_encodings, face_encoding)\n",
    "        name = \"Unknown\"\n",
    "        \n",
    "        if True in matches:\n",
    "            first_match_index = matches.index(True)\n",
    "            name = known_face_names[first_match_index]\n",
    "            \n",
    "        # Draw a box around the face and label with the name\n",
    "        cv2.rectangle(frame, (left, top), (right, bottom), (0, 0, 255), 2)\n",
    "        cv2.putText(frame, name, (left, top - 10), cv2.FONT_HERSHEY_SIMPLEX, 0.9, (0, 0, 255), 2)\n",
    "      \n",
    "    # Display the resulting frame\n",
    "    cv2.imshow(\"Video\", frame)\n",
    "    \n",
    "    # Break the loop when the 'q' key is pressed\n",
    "    if cv2.waitKey(1) & 0xFF == ord('q'):\n",
    "        break\n",
    "        \n",
    "# Release the webcam and close OpenCV windows\n",
    "video_capture.release()\n",
    "cv2.destroyAllWindows()"
   ]
  }
 ],
 "metadata": {
  "kernelspec": {
   "display_name": "Python 3 (ipykernel)",
   "language": "python",
   "name": "python3"
  },
  "language_info": {
   "codemirror_mode": {
    "name": "ipython",
    "version": 3
   },
   "file_extension": ".py",
   "mimetype": "text/x-python",
   "name": "python",
   "nbconvert_exporter": "python",
   "pygments_lexer": "ipython3",
   "version": "3.11.7"
  }
 },
 "nbformat": 4,
 "nbformat_minor": 5
}
